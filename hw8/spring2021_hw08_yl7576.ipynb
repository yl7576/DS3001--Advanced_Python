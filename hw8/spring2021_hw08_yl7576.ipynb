{
 "cells": [
  {
   "cell_type": "markdown",
   "metadata": {},
   "source": [
    "## Homework 08:  Parallel Programming 01\n",
    "\n",
    "## Due Date: Apr 12, 2021, 04:00pm\n",
    "\n",
    "#### Firstname Lastname: Yuhan Liu\n",
    "\n",
    "#### E-mail: yl7576@nyu.edu\n",
    "\n",
    "#### Enter your solutions and submit this notebook"
   ]
  },
  {
   "cell_type": "markdown",
   "metadata": {},
   "source": [
    "---\n",
    "\n",
    "**Problem 1 (50p)**\n",
    "\n",
    "Write an MPI program `sol08pr01.py` that does the following for some arbitrary number of processes $N \\geq 2$. Here the number of processes $N$ is given as `N` while calling the code `sol08pr01.py` as: \n",
    "\n",
    "`mpirun -n N python3 sol08pr01.py`\n",
    "\n",
    "\n",
    "Every process will contain one buffer with one integer variable, each of which is initialized to $0$.\n",
    "\n",
    "For $r=0, 1, \\dots, N - 1$, Process $r$ updates its buffer to the value received by $r-1$ (this should only be done for $r \\geq 1$), then it squares its rank $r$, adds the result $r^2$ to the value of its own buffer, and then sends the sum to Process $r + 1$. Note that for $r=N-1$ the result will be sent to Process $0$, i.e. by convention, Process $N$ is the same as Process $0$. At the end Process $0$ prints the received value. \n",
    "\n",
    "Provide results for: $N = 10$, $N = 15$, $N = 20$, $N = 25$. These are probably more than the available processes on your machine: you can use the option `--oversubscribe` in `mpirun` to let MPI run things anyway.\n",
    "\n",
    "\n",
    "\n",
    "**Note**: You can use either blocking or non-blocking operations.Make sure to provide adequate comments and documentation in the code. \n",
    "\n"
   ]
  },
  {
   "cell_type": "code",
   "execution_count": 30,
   "metadata": {},
   "outputs": [
    {
     "name": "stdout",
     "output_type": "stream",
     "text": [
      "Overwriting sol08pr01.py\n"
     ]
    }
   ],
   "source": [
    "%%writefile sol08pr01.py\n",
    "import numpy\n",
    "from mpi4py import MPI\n",
    "\n",
    "comm = MPI.COMM_WORLD\n",
    "N = comm.Get_size()\n",
    "r = comm.Get_rank()\n",
    "\n",
    "value = numpy.zeros(1) \n",
    "\n",
    "if r==0:\n",
    "    print(\"Process\", r, \"before receiving has the number\", value[0])\n",
    "    comm.Send(value, dest = r+1)                                       # send the value to process 1\n",
    "    print(\"Process\",r,\"send the value:\", value[0], \"to process\", r+1)\n",
    "    comm.Recv(value, source = N-1)                                     # receive the value from process N-1\n",
    "    print(\"Process\",r,\"receive the value:\", value[0], \"from process\", N-1)\n",
    "elif r != N-1:                                                         # for those processes in the middle stage\n",
    "    comm.Recv(value, source = r-1)                                     # receive the value from the previous process\n",
    "    print(\"Process\",r,\"receive the value:\", value[0], \"from process\", r-1)\n",
    "    value += r**2                                                      # add r^2 to the value\n",
    "    comm.Send(value,dest=r+1)                                          # send the new value to the next process\n",
    "    print(\"Process\",r,\"send the value:\", value[0], \"to process\", r+1)\n",
    "else:                                                                  # for the last process\n",
    "    comm.Recv(value, source = r-1)                                     # receive the value from the previous process\n",
    "    print(\"Process\",r,\"receive the value:\", value[0], \"from process\", r-1)\n",
    "    value += r**2                                                      # add r^2 to the value\n",
    "    comm.Send(value,dest=0)                                            # send the new value to process 0 \n",
    "    print(\"Process\",r,\"send the value:\", value[0], \"to process\", 0)"
   ]
  },
  {
   "cell_type": "code",
   "execution_count": 34,
   "metadata": {},
   "outputs": [
    {
     "name": "stdout",
     "output_type": "stream",
     "text": [
      "Process 1 receive the value: 0.0 from process 0\n",
      "Process 1 send the value: 1.0 to process 2\n",
      "Process 2 receive the value: 1.0 from process 1\n",
      "Process 2 send the value: 5.0 to process 3\n",
      "Process 3 receive the value: 5.0 from process 2\n",
      "Process 3 send the value: 14.0 to process 4\n",
      "Process 4 receive the value: 14.0 from process 3\n",
      "Process 4 send the value: 30.0 to process 5\n",
      "Process 5 receive the value: 30.0 from process 4\n",
      "Process 5 send the value: 55.0 to process 6\n",
      "Process 6 receive the value: 55.0 from process 5\n",
      "Process 6 send the value: 91.0 to process 7\n",
      "Process 7 receive the value: 91.0 from process 6\n",
      "Process 7 send the value: 140.0 to process 8\n",
      "Process 8 receive the value: 140.0 from process 7\n",
      "Process 8 send the value: 204.0 to process 9\n",
      "Process 9 receive the value: 204.0 from process 8\n",
      "Process 9 send the value: 285.0 to process 0\n",
      "Process 0 before receiving has the number 0.0\n",
      "Process 0 send the value: 0.0 to process 1\n",
      "Process 0 receive the value: 285.0 from process 9\n"
     ]
    }
   ],
   "source": [
    "!mpirun -n 10 python3 sol08pr01.py"
   ]
  },
  {
   "cell_type": "code",
   "execution_count": 35,
   "metadata": {},
   "outputs": [
    {
     "name": "stdout",
     "output_type": "stream",
     "text": [
      "Process 1 receive the value: 0.0 from process 0\n",
      "Process 1 send the value: 1.0 to process 2\n",
      "Process 2 receive the value: 1.0 from process 1\n",
      "Process 2 send the value: 5.0 to process 3\n",
      "Process 3 receive the value: 5.0 from process 2\n",
      "Process 3 send the value: 14.0 to process 4\n",
      "Process 4 receive the value: 14.0 from process 3\n",
      "Process 4 send the value: 30.0 to process 5\n",
      "Process 5 receive the value: 30.0 from process 4\n",
      "Process 5 send the value: 55.0 to process 6\n",
      "Process 6 receive the value: 55.0 from process 5\n",
      "Process 6 send the value: 91.0 to process 7\n",
      "Process 7 receive the value: 91.0 from process 6\n",
      "Process 7 send the value: 140.0 to process 8\n",
      "Process 8 receive the value: 140.0 from process 7\n",
      "Process 8 send the value: 204.0 to process 9\n",
      "Process 9 receive the value: 204.0 from process 8\n",
      "Process 9 send the value: 285.0 to process 10\n",
      "Process 10 receive the value: 285.0 from process 9\n",
      "Process 10 send the value: 385.0 to process 11\n",
      "Process 11 receive the value: 385.0 from process 10\n",
      "Process 11 send the value: 506.0 to process 12\n",
      "Process 12 receive the value: 506.0 from process 11\n",
      "Process 12 send the value: 650.0 to process 13\n",
      "Process 13 receive the value: 650.0 from process 12\n",
      "Process 13 send the value: 819.0 to process 14\n",
      "Process 14 receive the value: 819.0 from process 13\n",
      "Process 14 send the value: 1015.0 to process 0\n",
      "Process 0 before receiving has the number 0.0\n",
      "Process 0 send the value: 0.0 to process 1\n",
      "Process 0 receive the value: 1015.0 from process 14\n"
     ]
    }
   ],
   "source": [
    "!mpirun -n 15 python3 sol08pr01.py"
   ]
  },
  {
   "cell_type": "code",
   "execution_count": 36,
   "metadata": {},
   "outputs": [
    {
     "name": "stdout",
     "output_type": "stream",
     "text": [
      "Process 1 receive the value: 0.0 from process 0\n",
      "Process 1 send the value: 1.0 to process 2\n",
      "Process 2 receive the value: 1.0 from process 1\n",
      "Process 2 send the value: 5.0 to process 3\n",
      "Process 3 receive the value: 5.0 from process 2\n",
      "Process 3 send the value: 14.0 to process 4\n",
      "Process 4 receive the value: 14.0 from process 3\n",
      "Process 4 send the value: 30.0 to process 5\n",
      "Process 5 receive the value: 30.0 from process 4\n",
      "Process 5 send the value: 55.0 to process 6\n",
      "Process 6 receive the value: 55.0 from process 5\n",
      "Process 6 send the value: 91.0 to process 7\n",
      "Process 7 receive the value: 91.0 from process 6\n",
      "Process 7 send the value: 140.0 to process 8\n",
      "Process 8 receive the value: 140.0 from process 7\n",
      "Process 8 send the value: 204.0 to process 9\n",
      "Process 9 receive the value: 204.0 from process 8\n",
      "Process 9 send the value: 285.0 to process 10\n",
      "Process 10 receive the value: 285.0 from process 9\n",
      "Process 10 send the value: 385.0 to process 11\n",
      "Process 11 receive the value: 385.0 from process 10\n",
      "Process 11 send the value: 506.0 to process 12\n",
      "Process 12 receive the value: 506.0 from process 11\n",
      "Process 12 send the value: 650.0 to process 13\n",
      "Process 13 receive the value: 650.0 from process 12\n",
      "Process 13 send the value: 819.0 to process 14\n",
      "Process 14 receive the value: 819.0 from process 13\n",
      "Process 14 send the value: 1015.0 to process 15\n",
      "Process 15 receive the value: 1015.0 from process 14\n",
      "Process 15 send the value: 1240.0 to process 16\n",
      "Process 16 receive the value: 1240.0 from process 15\n",
      "Process 16 send the value: 1496.0 to process 17\n",
      "Process 17 receive the value: 1496.0 from process 16\n",
      "Process 17 send the value: 1785.0 to process 18\n",
      "Process 18 receive the value: 1785.0 from process 17\n",
      "Process 18 send the value: 2109.0 to process 19\n",
      "Process 19 receive the value: 2109.0 from process 18\n",
      "Process 19 send the value: 2470.0 to process 0\n",
      "Process 0 before receiving has the number 0.0\n",
      "Process 0 send the value: 0.0 to process 1\n",
      "Process 0 receive the value: 2470.0 from process 19\n"
     ]
    }
   ],
   "source": [
    "!mpirun -n 20 python3 sol08pr01.py"
   ]
  },
  {
   "cell_type": "code",
   "execution_count": 37,
   "metadata": {},
   "outputs": [
    {
     "name": "stdout",
     "output_type": "stream",
     "text": [
      "Process 1 receive the value: 0.0 from process 0\n",
      "Process 1 send the value: 1.0 to process 2\n",
      "Process 2 receive the value: 1.0 from process 1\n",
      "Process 2 send the value: 5.0 to process 3\n",
      "Process 3 receive the value: 5.0 from process 2\n",
      "Process 3 send the value: 14.0 to process 4\n",
      "Process 4 receive the value: 14.0 from process 3\n",
      "Process 4 send the value: 30.0 to process 5\n",
      "Process 5 receive the value: 30.0 from process 4\n",
      "Process 5 send the value: 55.0 to process 6\n",
      "Process 6 receive the value: 55.0 from process 5\n",
      "Process 6 send the value: 91.0 to process 7\n",
      "Process 7 receive the value: 91.0 from process 6\n",
      "Process 7 send the value: 140.0 to process 8\n",
      "Process 8 receive the value: 140.0 from process 7\n",
      "Process 8 send the value: 204.0 to process 9\n",
      "Process 9 receive the value: 204.0 from process 8\n",
      "Process 9 send the value: 285.0 to process 10\n",
      "Process 10 receive the value: 285.0 from process 9\n",
      "Process 10 send the value: 385.0 to process 11\n",
      "Process 11 receive the value: 385.0 from process 10\n",
      "Process 11 send the value: 506.0 to process 12\n",
      "Process 12 receive the value: 506.0 from process 11\n",
      "Process 12 send the value: 650.0 to process 13\n",
      "Process 13 receive the value: 650.0 from process 12\n",
      "Process 13 send the value: 819.0 to process 14\n",
      "Process 14 receive the value: 819.0 from process 13\n",
      "Process 14 send the value: 1015.0 to process 15\n",
      "Process 15 receive the value: 1015.0 from process 14\n",
      "Process 15 send the value: 1240.0 to process 16\n",
      "Process 16 receive the value: 1240.0 from process 15\n",
      "Process 16 send the value: 1496.0 to process 17\n",
      "Process 17 receive the value: 1496.0 from process 16\n",
      "Process 17 send the value: 1785.0 to process 18\n",
      "Process 18 receive the value: 1785.0 from process 17\n",
      "Process 18 send the value: 2109.0 to process 19\n",
      "Process 19 receive the value: 2109.0 from process 18\n",
      "Process 19 send the value: 2470.0 to process 20\n",
      "Process 20 receive the value: 2470.0 from process 19\n",
      "Process 20 send the value: 2870.0 to process 21\n",
      "Process 21 receive the value: 2870.0 from process 20\n",
      "Process 21 send the value: 3311.0 to process 22\n",
      "Process 22 receive the value: 3311.0 from process 21\n",
      "Process 22 send the value: 3795.0 to process 23\n",
      "Process 23 receive the value: 3795.0 from process 22\n",
      "Process 23 send the value: 4324.0 to process 24\n",
      "Process 0 before receiving has the number 0.0\n",
      "Process 0 send the value: 0.0 to process 1\n",
      "Process 0 receive the value: 4900.0 from process 24\n",
      "Process 24 receive the value: 4324.0 from process 23\n",
      "Process 24 send the value: 4900.0 to process 0\n"
     ]
    }
   ],
   "source": [
    "!mpirun -n 25 python3 sol08pr01.py"
   ]
  },
  {
   "cell_type": "markdown",
   "metadata": {},
   "source": [
    "\n",
    "\n",
    "**Problem 2 (50p)**\n",
    "\n",
    "Write an MPI program that does the following. There are two processes 0 and 1 that have to exchange $T=10$ messages.  \n",
    "\n",
    "\n",
    "Process 0 initially reads two float variables from the standard input, call them $x, y$, and must ensure $x \\neq 0$ and $y \\neq 0$. For example this can be done as:\n",
    "\n",
    "```\n",
    "import sys\n",
    "\n",
    "\n",
    "for line in sys.stdin:\n",
    "    x = float(line)        \n",
    "    if x != 0.0:\n",
    "        break\n",
    "for line in sys.stdin:\n",
    "    y = float(line)        \n",
    "    if y != 0.0:\n",
    "        break\n",
    "```\n",
    "\n",
    "\n",
    "Both Process 0 and Process 1 will carry main results in an element that is part of a process buffer and called $p$. The value in $p$ is initially set to $1$. \n",
    "\n",
    "\n",
    "Now the exchange of messages is as follows.\n",
    "\n",
    "\n",
    "0. Message00: Process 0 multiplies its own value in $p$ by $x$ and sends the whole buffer to Process 1.\n",
    "\n",
    "1. Message01: Process 1 divides its own value in $p$ by $y$ and sends the whole buffer to Process 0.\n",
    "\n",
    "2. Message01: Process 0 multiplies its own value in $p$ by $x$ and sends the whole buffer to Process 1.\n",
    "\n",
    "3. Message02: Process 1 divides its own value in $p$ by $y$ and sends the whole buffer to Process 0.\n",
    "\n",
    "\n",
    "etc.\n",
    "\n",
    "8. Message08: Process 0 multiplies its own value in $p$ by $x$ and sends the whole buffer to Process 1.\n",
    "\n",
    "9. Message09: Process 1 divides its own value in $p$ by $y$ and sends the whole buffer to Process 0.\n",
    "\n",
    "Finally, Process 0 prints the value in $p$ as a final result. \n",
    "\n",
    "\n",
    "Write the code that implements the protocol above. Additionally, provide results for: $(x, y) = (2, 4)$, $(x, y) = (1, 3)$, $(x, y) = (5, 7)$ and $(x, y) = (5, 10)$.\n",
    "\n",
    "\n",
    "**Note**: You can use either blocking or non-blocking operations.Make sure to provide adequate comments and documentation in the code.\n",
    "\n"
   ]
  },
  {
   "cell_type": "code",
   "execution_count": 101,
   "metadata": {},
   "outputs": [
    {
     "name": "stdout",
     "output_type": "stream",
     "text": [
      "Overwriting prob2.py\n"
     ]
    }
   ],
   "source": [
    "%%writefile sol08pr02.py\n",
    "from mpi4py import MPI\n",
    "import sys\n",
    "import numpy as np\n",
    "\n",
    "comm = MPI.COMM_WORLD\n",
    "size = comm.Get_size()\n",
    "rank = comm.Get_rank() \n",
    "\n",
    "x = float(sys.argv[1]) \n",
    "y = float(sys.argv[2]) \n",
    "p_init=1\n",
    "bf = np.array([x,y,p_init])\n",
    "\n",
    "for i in range(5):\n",
    "    if rank == 0:\n",
    "        bf[2]= bf[2]*bf[0]                  # multiply p by x\n",
    "        comm.Send(bf, dest=1, tag=0)        # send the new value of p to process 1 with tag 0\n",
    "        comm.Recv(bf, source = 1, tag = 1)  # receive the updated value from process 1 with tag 1\n",
    "        if i==4:\n",
    "            print(\"final result of p is\", bf[2])\n",
    "    else:\n",
    "        comm.Recv(bf, source = 0, tag = 0)  # first receive the updated p from process 0 with tag 0\n",
    "        bf[2]= bf[2]/bf[1]                  # divide p by y\n",
    "        comm.Send(bf, dest=0, tag=1)        # send the new value to process 0 with tag 1"
   ]
  },
  {
   "cell_type": "code",
   "execution_count": 102,
   "metadata": {},
   "outputs": [
    {
     "name": "stdout",
     "output_type": "stream",
     "text": [
      "final result of p is 0.03125\r\n"
     ]
    }
   ],
   "source": [
    "!mpirun -n 2 python3 sol08pr02.py 2 4"
   ]
  },
  {
   "cell_type": "code",
   "execution_count": 103,
   "metadata": {},
   "outputs": [
    {
     "name": "stdout",
     "output_type": "stream",
     "text": [
      "final result of p is 0.004115226337448559\r\n"
     ]
    }
   ],
   "source": [
    "!mpirun -n 2 python3 sol08pr02.py 1 3"
   ]
  },
  {
   "cell_type": "code",
   "execution_count": 104,
   "metadata": {},
   "outputs": [
    {
     "name": "stdout",
     "output_type": "stream",
     "text": [
      "final result of p is 0.1859344320818706\r\n"
     ]
    }
   ],
   "source": [
    "!mpirun -n 2 python3 sol08pr02.py 5 7"
   ]
  },
  {
   "cell_type": "code",
   "execution_count": 105,
   "metadata": {},
   "outputs": [
    {
     "name": "stdout",
     "output_type": "stream",
     "text": [
      "final result of p is 0.03125\r\n"
     ]
    }
   ],
   "source": [
    "!mpirun -n 2 python3 sol08pr02.py 5 10"
   ]
  }
 ],
 "metadata": {
  "kernelspec": {
   "display_name": "Python 3",
   "language": "python",
   "name": "python3"
  },
  "language_info": {
   "codemirror_mode": {
    "name": "ipython",
    "version": 3
   },
   "file_extension": ".py",
   "mimetype": "text/x-python",
   "name": "python",
   "nbconvert_exporter": "python",
   "pygments_lexer": "ipython3",
   "version": "3.8.5"
  }
 },
 "nbformat": 4,
 "nbformat_minor": 2
}
