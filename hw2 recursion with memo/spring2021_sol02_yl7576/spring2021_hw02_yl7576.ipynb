{
 "cells": [
  {
   "cell_type": "markdown",
   "metadata": {},
   "source": [
    "**Advanced Python for Data Science**  \n",
    "**DS-GA-3001.001/.002/.003**\n",
    "\n",
    "\n",
    "## Homework Assignment 02  \n",
    "**Due date: Feb, 18 2020, 4:00PM**  "
   ]
  },
  {
   "cell_type": "markdown",
   "metadata": {},
   "source": [
    "### Instructions for submitting solutions for assignment 2: \n",
    "\n",
    "- Please submit only one zip file to NYU Classes, which contains **all your python solutions** and **one pdf file** with all of your answers.  \n",
    "\n",
    "- The submitted zip-file name should be as **\"spring2021_sol02_*nyuid*.zip\"**  \n",
    "\n",
    "\n",
    "- **e.g.** If your nyuid is \"ab1234\", the submission is \"spring2021_sol02_ab1234.zip\"  \n",
    "\n",
    "\n",
    "\n"
   ]
  },
  {
   "cell_type": "markdown",
   "metadata": {},
   "source": [
    "# Problem 1. (30pt)\n",
    "\n",
    "Write a function f(n) to calculate the number of ways of representing $n$ as a sum of 1, 2, and 5, where the order of summands is important. For example: \n",
    "\n",
    "---\n",
    "\n",
    "n = 1  \n",
    "1 = 1  \n",
    "f(1) = 1  \n",
    "\n",
    "---\n",
    "\n",
    "n = 2  \n",
    "2 = 1 + 1  \n",
    "2 = 2  \n",
    "f(2) = 2  \n",
    "\n",
    "---\n",
    "\n",
    "n = 3  \n",
    "3 = 1 + 1 + 1  \n",
    "3 = 1 + 2  \n",
    "3 = 2 + 1  \n",
    "f(3) = 3 \n",
    "\n",
    "---\n",
    "\n",
    "n = 5  \n",
    "5 = 1 + 1 + 1 + 1 + 1  \n",
    "5 = 1 + 1 + 1 + 2  \n",
    "5 = 1 + 1 + 2 + 1  \n",
    "5 = 1 + 2 + 1 + 1  \n",
    "5 = 2 + 1 + 1 + 1  \n",
    "5 = 2 + 2 + 1  \n",
    "5 = 2 + 1 + 2  \n",
    "5 = 1 + 2 + 2  \n",
    "5 = 5  \n",
    "f(5) = 9\n",
    "\n",
    "---\n",
    "\n",
    "(10pt) Write a recursive solution f_rec() without memoization and time it for $n=10, 25$.  \n",
    "\n",
    "(10pt) Write a recursive solution with memoization or a wrapper function f_memo() and time it for $n=10, 25, 50, 100$.  \n",
    "\n",
    "(10pt) Write an iterative solution f_it() and time it for $n=10, 25, 50, 100$.  \n",
    "\n"
   ]
  },
  {
   "cell_type": "code",
   "execution_count": 24,
   "metadata": {},
   "outputs": [],
   "source": [
    "# recursive solution\n",
    "def f_rec(n):\n",
    "    if n == 0:\n",
    "        return 1\n",
    "    elif n == 1:\n",
    "        return 1\n",
    "    elif n == 2:\n",
    "        return 2\n",
    "    elif n == 3:\n",
    "        return 3\n",
    "    elif n == 4:\n",
    "        return 5\n",
    "    else:\n",
    "        return f_rec(n-1) + f_rec(n-2) +f_rec(n-5)"
   ]
  },
  {
   "cell_type": "code",
   "execution_count": 25,
   "metadata": {},
   "outputs": [
    {
     "name": "stdout",
     "output_type": "stream",
     "text": [
      "f_rec(10) = 128\n",
      "17.8 µs ± 4.31 µs per loop (mean ± std. dev. of 10 runs, 100 loops each)\n"
     ]
    }
   ],
   "source": [
    "print('f_rec(10) =', f_rec(10))\n",
    "%timeit -r 10 -n 100 f_rec(10)"
   ]
  },
  {
   "cell_type": "code",
   "execution_count": 26,
   "metadata": {},
   "outputs": [
    {
     "name": "stdout",
     "output_type": "stream",
     "text": [
      "f_rec(25) = 382396\n",
      "52.8 ms ± 5.54 ms per loop (mean ± std. dev. of 5 runs, 50 loops each)\n"
     ]
    }
   ],
   "source": [
    "print('f_rec(25) =', f_rec(25))\n",
    "%timeit -r 5 -n 50 f_rec(25)"
   ]
  },
  {
   "cell_type": "code",
   "execution_count": 1,
   "metadata": {},
   "outputs": [],
   "source": [
    "# ecursive solution with memoization\n",
    "def f_memo(n, memo=dict()):\n",
    "    if n == 0:\n",
    "        return 1\n",
    "    elif n == 1:\n",
    "        return 1\n",
    "    elif n == 2:\n",
    "        return 2\n",
    "    elif n == 3:\n",
    "        return 3\n",
    "    elif n == 4:\n",
    "        return 5\n",
    "    elif n in memo: \n",
    "        return memo[n]\n",
    "    memo[n] = f_memo(n - 1, memo) + f_memo(n - 2, memo) + f_memo(n - 5, memo)\n",
    "    return memo[n]"
   ]
  },
  {
   "cell_type": "code",
   "execution_count": 3,
   "metadata": {},
   "outputs": [
    {
     "name": "stdout",
     "output_type": "stream",
     "text": [
      "f_memo(10) = 128\n",
      "342 ns ± 50.8 ns per loop (mean ± std. dev. of 10 runs, 1000 loops each)\n"
     ]
    }
   ],
   "source": [
    "print('f_memo(10) =', f_memo(10))\n",
    "%timeit -r 10 -n 1000 f_memo(10)"
   ]
  },
  {
   "cell_type": "code",
   "execution_count": 18,
   "metadata": {},
   "outputs": [
    {
     "name": "stdout",
     "output_type": "stream",
     "text": [
      "f_memo(25) = 382396\n",
      "343 ns ± 167 ns per loop (mean ± std. dev. of 10 runs, 1000 loops each)\n"
     ]
    }
   ],
   "source": [
    "print('f_memo(25) =', f_memo(25))\n",
    "%timeit -r 10 -n 1000 f_memo(25)"
   ]
  },
  {
   "cell_type": "code",
   "execution_count": 19,
   "metadata": {},
   "outputs": [
    {
     "name": "stdout",
     "output_type": "stream",
     "text": [
      "f_memo(50) = 237139442616\n",
      "438 ns ± 147 ns per loop (mean ± std. dev. of 10 runs, 1000 loops each)\n"
     ]
    }
   ],
   "source": [
    "print('f_memo(50) =',f_memo(50))\n",
    "%timeit -r 10 -n 1000 f_memo(50)"
   ]
  },
  {
   "cell_type": "code",
   "execution_count": 21,
   "metadata": {},
   "outputs": [
    {
     "name": "stdout",
     "output_type": "stream",
     "text": [
      "f_memo(100) = 91197869007632925819218\n",
      "476 ns ± 76.9 ns per loop (mean ± std. dev. of 10 runs, 1000 loops each)\n"
     ]
    }
   ],
   "source": [
    "print('f_memo(100) =',f_memo(100))\n",
    "%timeit -r 10 -n 1000 f_memo(100)"
   ]
  },
  {
   "cell_type": "code",
   "execution_count": 27,
   "metadata": {},
   "outputs": [],
   "source": [
    "# iterative solution \n",
    "def f_it(n):\n",
    "    arr = ['None']*(n+1)\n",
    "    arr[0] = 1\n",
    "    arr[1] = 1\n",
    "    arr[2] = 2\n",
    "    arr[3] = 3\n",
    "    arr[4] = 5\n",
    "    for i in range(5,n+1):\n",
    "        arr[i] = arr[i-1] + arr[i-2] + arr[i-5]\n",
    "    return arr[n]"
   ]
  },
  {
   "cell_type": "code",
   "execution_count": 29,
   "metadata": {},
   "outputs": [
    {
     "name": "stdout",
     "output_type": "stream",
     "text": [
      "f_it(10) = 128\n",
      "2.9 µs ± 861 ns per loop (mean ± std. dev. of 10 runs, 1000 loops each)\n"
     ]
    }
   ],
   "source": [
    "print('f_it(10) =', f_it(10))\n",
    "%timeit -r 10 -n 1000 f_it(10)"
   ]
  },
  {
   "cell_type": "code",
   "execution_count": 31,
   "metadata": {},
   "outputs": [
    {
     "name": "stdout",
     "output_type": "stream",
     "text": [
      "f_it(25) = 382396\n",
      "6.45 µs ± 1.39 µs per loop (mean ± std. dev. of 10 runs, 1000 loops each)\n"
     ]
    }
   ],
   "source": [
    "print('f_it(25) =', f_it(25))\n",
    "%timeit -r 10 -n 1000 f_it(25)"
   ]
  },
  {
   "cell_type": "code",
   "execution_count": 32,
   "metadata": {},
   "outputs": [
    {
     "name": "stdout",
     "output_type": "stream",
     "text": [
      "f_it(50) = 237139442616\n",
      "11.1 µs ± 578 ns per loop (mean ± std. dev. of 10 runs, 1000 loops each)\n"
     ]
    }
   ],
   "source": [
    "print('f_it(50) =', f_it(50))\n",
    "%timeit -r 10 -n 1000 f_it(50)"
   ]
  },
  {
   "cell_type": "code",
   "execution_count": 33,
   "metadata": {},
   "outputs": [
    {
     "name": "stdout",
     "output_type": "stream",
     "text": [
      "f_it(100) = 91197869007632925819218\n",
      "21.9 µs ± 810 ns per loop (mean ± std. dev. of 10 runs, 1000 loops each)\n"
     ]
    }
   ],
   "source": [
    "print('f_it(100) =', f_it(100))\n",
    "%timeit -r 10 -n 1000 f_it(100)"
   ]
  },
  {
   "cell_type": "markdown",
   "metadata": {},
   "source": [
    "# Problem 2. (70%)\n",
    "\n",
    "An astrophysicist colleague was recently complaining about how long it was taking to run an N-body simulation. “It’s really just a simple calculation, and I’m only simulating four planets, but it takes nearly a minute and a half to run one simulation. I really need it done in under 30 seconds.” You kindly offer to take a look at code to see if it is possible to speed it up. Your colleague provides you with a link to the source: https://nyu-cds.github.io/courses/code/nbody.py\n",
    "\n",
    "\n",
    "Although your colleague said the code was simple, it is still fairly complex, so you decide to tackle the problem in stages. A first scan of the code reveals a number of potential areas that could be improved. These include:\n",
    "\n",
    "- Reducing function call overhead\n",
    "\n",
    "- Using alternatives to membership testing of lists \n",
    "\n",
    "- Using local rather than global variables \n",
    "\n",
    "- Using data aggregation to reduce loop overheads.\n",
    "\n",
    "As you’re a cautious programmer, you decide to address each of these in turn. This will ensure that it is possible to check the program is still working correctly after each change, and to assess the performance improvement that the change achieved. You are also aware that the program has to be maintained by others in the future, so you want to make sure that the changes do not make this more difficult, especially if the performance improvement is only minor.\n",
    "\n",
    "For each of these areas, create a new version of nbody.py, call them nbody_1.py, nbody_2.py, nbody_3.py, nbody_4.py. Finally, create another file called nbody_opt.py that contains all of the optimizations you made. \n",
    "\n",
    "\n",
    "Finally, generate a .pdf file with the four logs produced by the command in shell:\n",
    "\n",
    "for f in nbody_*.py; do python -m cProfile -s cumulative $f; done\n",
    "\n",
    "How much speedup do you get (time_original/time_optimized)?\n",
    "\n"
   ]
  }
 ],
 "metadata": {
  "kernelspec": {
   "display_name": "Python 3",
   "language": "python",
   "name": "python3"
  },
  "language_info": {
   "codemirror_mode": {
    "name": "ipython",
    "version": 3
   },
   "file_extension": ".py",
   "mimetype": "text/x-python",
   "name": "python",
   "nbconvert_exporter": "python",
   "pygments_lexer": "ipython3",
   "version": "3.8.5"
  }
 },
 "nbformat": 4,
 "nbformat_minor": 2
}
