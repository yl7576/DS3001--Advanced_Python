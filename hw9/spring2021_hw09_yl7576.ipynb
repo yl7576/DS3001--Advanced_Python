{
 "cells": [
  {
   "cell_type": "markdown",
   "metadata": {},
   "source": [
    "## Homework 09:  Parallel Programming 02\n",
    "\n",
    "## Due Date: Friday Apr 23, 2021, 05:00pm\n",
    "\n",
    "#### Firstname Lastname: Yuhan Liu\n",
    "\n",
    "#### E-mail: yl7576@nyu.edu\n",
    "\n",
    "#### Enter your solutions and submit this notebook"
   ]
  },
  {
   "cell_type": "markdown",
   "metadata": {},
   "source": [
    "---\n",
    "\n",
    "**Problem 1 (40p)**\n",
    "\n",
    "In this problem the goal is to calculate the mean and standard deviation of a large list of numbers by using Reduction as one of Collective Operations, see Lecture 11. \n",
    "\n",
    "\n",
    "Consider $N = 256000$ random variables uniform on $[0, 1]$, call these $x_0, x_1, \\dots, x_{N - 1}$.  \n",
    "\n",
    "\n",
    "Write an MPI program with $N=16$ processes that outputs the average and standard deviation of $x_0, x_1, \\dots, x_{N - 1}$.\n",
    "\n",
    "\n",
    "To simplify the problem, let one process, say `Process 0`, independently draws $N$ samples uniformly on $[0, 1]$.\n",
    "\n",
    "How do you explain the results?\n",
    "\n",
    "\n",
    "**Instructions:** \n",
    "Your program should use MPI4PY and collective operations. \n",
    "Save your program as 2020_spring_sol09_pr01.py and run it from the terminal as:\n",
    "\n",
    "```\n",
    "mpirun -n 16 python 2020_spring_sol09_pr01.py\n",
    "```\n"
   ]
  },
  {
   "cell_type": "code",
   "execution_count": 29,
   "metadata": {},
   "outputs": [
    {
     "name": "stdout",
     "output_type": "stream",
     "text": [
      "Overwriting 2020_spring_sol09_pr01.py\n"
     ]
    }
   ],
   "source": [
    "%%writefile 2020_spring_sol09_pr01.py\n",
    "import numpy as np\n",
    "from mpi4py import MPI\n",
    "\n",
    "comm = MPI.COMM_WORLD\n",
    "rank = comm.Get_rank()\n",
    "size = comm.Get_size()\n",
    "status = MPI.Status()\n",
    "\n",
    "n = 256000\n",
    "\n",
    "if rank == 0:\n",
    "    x = np.random.uniform(0,1,n).astype('f').reshape(size, int(n/size))\n",
    "else:\n",
    "    x = None\n",
    "\n",
    "recvbuf = np.empty(int(n/size),dtype='f')\n",
    "comm.Scatter(x, recvbuf, root=0)\n",
    "rank_sum = sum(recvbuf)\n",
    "\n",
    "overall_sum = comm.allreduce(rank_sum, MPI.SUM)\n",
    "overall_mean = overall_sum/n\n",
    "\n",
    "rank_sqdiff = sum((i-overall_mean)**2 for i in recvbuf)\n",
    "std = comm.reduce(rank_sqdiff, MPI.SUM, 0)\n",
    "\n",
    "if rank==0:\n",
    "    overall_std = np.sqrt(std/n)\n",
    "    print('Mean is',overall_mean)\n",
    "    print('Standard Deviation is', overall_std)"
   ]
  },
  {
   "cell_type": "code",
   "execution_count": 30,
   "metadata": {},
   "outputs": [
    {
     "name": "stdout",
     "output_type": "stream",
     "text": [
      "Mean is 0.4991937337077721\r\n",
      "Standard Deviation is 0.2883587150140864\r\n"
     ]
    }
   ],
   "source": [
    "!mpirun -n 16 python 2020_spring_sol09_pr01.py"
   ]
  },
  {
   "cell_type": "markdown",
   "metadata": {},
   "source": [
    "\n",
    "---\n",
    "**Problem 2 (60p)**\n",
    "\n",
    "In this problem the goal is to demonstrate how one can use a Domain Decomposition and  Collective Operations. \n",
    "\n",
    "Consider the exponential distribution $X \\sim \\textrm{Exp}(1)$ with the unit mean. Find numerical approximations of moments of the exponential random variable. \n",
    "\n",
    "That is, for a random variable $X$ with the distribution $f(x) = e^{-x}$ for $x \\geq 0$, compute the first $15$ moments, where the $k$-th moment is defined as:\n",
    "$$I_k = \\int_{0}^{\\infty} x^k f(x) dx.$$\n",
    "\n",
    "\n",
    "Your program should use MPI parallel collective instructions, where the integration is performed in parallel over $N=16$ processes, over a finite range $[0, M)$, where $M=1000$, with $N = 16$ partitions and $1000$ increments per partition, see Lecture 10 and 11.\n",
    "\n",
    "Provide evaluations of $J_1, J_2, \\dots, J_{15}$, where $$J_k = \\int_{0}^{M} x^k f(x) dx.$$\n",
    "\n",
    "\n",
    "**Instructions:** \n",
    "\n",
    "Save your program as 2020_sol09_pr02.py; and run it from the terminal as:\n",
    "\n",
    "```\n",
    "mpirun -n 16 python 2020_spring_sol09_pr02.py\n",
    "```\n",
    "\n",
    "\n",
    "**Bonus Question (10 points):** \n",
    "\n",
    "What is the value of $I_k$, as a function of $k$? How can it be derived?"
   ]
  },
  {
   "cell_type": "code",
   "execution_count": 52,
   "metadata": {},
   "outputs": [
    {
     "name": "stdout",
     "output_type": "stream",
     "text": [
      "Overwriting 2020_spring_sol09_pr02.py\n"
     ]
    }
   ],
   "source": [
    "%%writefile 2020_spring_sol09_pr02.py\n",
    "import numpy as np\n",
    "import sys\n",
    "from math import exp\n",
    "from mpi4py import MPI\n",
    "\n",
    "def jk(a_r,k,n,delta):\n",
    "        res = 0.0\n",
    "        for i in range(n):\n",
    "            x = a_r + (i+0.5) * delta\n",
    "            res += (x**k) * np.exp(-x) * delta\n",
    "        return res\n",
    "    \n",
    "for k in list(range(1, 16)):\n",
    "    k = int(k)\n",
    "    \n",
    "    comm = MPI.COMM_WORLD\n",
    "    rank = comm.Get_rank()\n",
    "    size = comm.Get_size()\n",
    "\n",
    "    local_intg, global_intg = np.zeros(1),np.zeros(1)\n",
    "    if rank == 0:\n",
    "        n = np.full(1, 1000, dtype=int) \n",
    "    else:\n",
    "        n = np.zeros(1, dtype=int)\n",
    "    comm.Bcast(n, root=0)\n",
    "    \n",
    "    delta = 1000.0 / (n*size)  \n",
    "    intg_start = rank * (n*delta)\n",
    "    local_intg[0] = jk(intg_start, k, n[0], delta)\n",
    "    \n",
    "    comm.Reduce(local_intg, global_intg, MPI.SUM, 0)\n",
    "    if rank == 0:\n",
    "        print('with k =',k,'integral =', global_intg[0])"
   ]
  },
  {
   "cell_type": "code",
   "execution_count": 53,
   "metadata": {},
   "outputs": [
    {
     "name": "stdout",
     "output_type": "stream",
     "text": [
      "with k = 1 integral = 1.0001627047952104\r\n",
      "with k = 2 integral = 2.0000001112238226\r\n",
      "with k = 3 integral = 5.99999988885252\r\n",
      "with k = 4 integral = 23.999999999771028\r\n",
      "with k = 5 integral = 120.00000000022848\r\n",
      "with k = 6 integral = 719.9999999999999\r\n",
      "with k = 7 integral = 5040.000000000001\r\n",
      "with k = 8 integral = 40320.00000000004\r\n",
      "with k = 9 integral = 362879.9999999999\r\n",
      "with k = 10 integral = 3628800.0000000023\r\n",
      "with k = 11 integral = 39916799.99999997\r\n",
      "with k = 12 integral = 479001600.0000007\r\n",
      "with k = 13 integral = 6227020800.000004\r\n",
      "with k = 14 integral = 87178291200.0002\r\n",
      "with k = 15 integral = 1307674368000.0007\r\n"
     ]
    }
   ],
   "source": [
    "!mpirun -n 16 python 2020_spring_sol09_pr02.py"
   ]
  }
 ],
 "metadata": {
  "kernelspec": {
   "display_name": "Python 3",
   "language": "python",
   "name": "python3"
  },
  "language_info": {
   "codemirror_mode": {
    "name": "ipython",
    "version": 3
   },
   "file_extension": ".py",
   "mimetype": "text/x-python",
   "name": "python",
   "nbconvert_exporter": "python",
   "pygments_lexer": "ipython3",
   "version": "3.8.5"
  },
  "varInspector": {
   "cols": {
    "lenName": 16,
    "lenType": 16,
    "lenVar": 40
   },
   "kernels_config": {
    "python": {
     "delete_cmd_postfix": "",
     "delete_cmd_prefix": "del ",
     "library": "var_list.py",
     "varRefreshCmd": "print(var_dic_list())"
    },
    "r": {
     "delete_cmd_postfix": ") ",
     "delete_cmd_prefix": "rm(",
     "library": "var_list.r",
     "varRefreshCmd": "cat(var_dic_list()) "
    }
   },
   "types_to_exclude": [
    "module",
    "function",
    "builtin_function_or_method",
    "instance",
    "_Feature"
   ],
   "window_display": false
  }
 },
 "nbformat": 4,
 "nbformat_minor": 2
}
