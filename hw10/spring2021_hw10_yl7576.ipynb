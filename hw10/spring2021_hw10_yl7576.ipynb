{
  "nbformat": 4,
  "nbformat_minor": 0,
  "metadata": {
    "kernelspec": {
      "display_name": "Python 3",
      "language": "python",
      "name": "python3"
    },
    "language_info": {
      "codemirror_mode": {
        "name": "ipython",
        "version": 3
      },
      "file_extension": ".py",
      "mimetype": "text/x-python",
      "name": "python",
      "nbconvert_exporter": "python",
      "pygments_lexer": "ipython3",
      "version": "3.8.5"
    },
    "varInspector": {
      "cols": {
        "lenName": 16,
        "lenType": 16,
        "lenVar": 40
      },
      "kernels_config": {
        "python": {
          "delete_cmd_postfix": "",
          "delete_cmd_prefix": "del ",
          "library": "var_list.py",
          "varRefreshCmd": "print(var_dic_list())"
        },
        "r": {
          "delete_cmd_postfix": ") ",
          "delete_cmd_prefix": "rm(",
          "library": "var_list.r",
          "varRefreshCmd": "cat(var_dic_list()) "
        }
      },
      "types_to_exclude": [
        "module",
        "function",
        "builtin_function_or_method",
        "instance",
        "_Feature"
      ],
      "window_display": false
    },
    "colab": {
      "name": "spring2021_hw10.ipynb",
      "provenance": [],
      "toc_visible": true
    },
    "accelerator": "GPU"
  },
  "cells": [
    {
      "cell_type": "markdown",
      "metadata": {
        "id": "xaAFtDlvVoJ6"
      },
      "source": [
        "## Homework 10: GPUs\n",
        "\n",
        "## Due Date: May 3, 2021, 04:00pm\n",
        "\n",
        "#### Firstname Lastname: Yuhan Liu\n",
        "\n",
        "#### E-mail: yl7576@nyu.edu\n",
        "\n",
        "#### Enter your solutions and submit this notebook"
      ]
    },
    {
      "cell_type": "markdown",
      "metadata": {
        "id": "l2EF2OkpVoKF"
      },
      "source": [
        "---\n",
        "\n",
        "**Problem 1 (100p)**\n",
        "\n",
        "\n",
        "Write two programs which will be able to run in parallel on a GPU, one using Numba/CUDA (50p), one using PyOpenCL (50p).\n",
        "\n",
        "\n",
        "Each program will:\n",
        "\n",
        "- draw two random vectors $\\vec u$ and $\\vec v$ from $[0,1]^N$ where $N = 10^7$;\n",
        "\n",
        "\n",
        "- calculate and output similarity between $\\vec u$ and $\\vec v$.\n",
        "\n",
        "\n",
        "\n",
        "\n",
        "The similarity between two vectors $\\vec u$ and $\\vec v$ is defined here as a `cosine` value of the angle between them $\\measuredangle \\left( \\vec u, \\vec v \\right)$. That is, the program returns: \n",
        "\n",
        "$$\\cos \\left( \\measuredangle \\left( \\vec u, \\vec v \\right) \\right).$$\n",
        "\n",
        "\n",
        "Note that the output is a real value and must belong to $[-1, 1]$."
      ]
    },
    {
      "cell_type": "code",
      "metadata": {
        "colab": {
          "base_uri": "https://localhost:8080/"
        },
        "id": "1RfMsrhRVqj0",
        "outputId": "b354bb36-89ec-4830-fe0a-8a44f498a718"
      },
      "source": [
        "from numba import cuda\n",
        "print(cuda.gpus)\n",
        "\n",
        "cuda.select_device(0)"
      ],
      "execution_count": 15,
      "outputs": [
        {
          "output_type": "stream",
          "text": [
            "<Managed Device 0>\n"
          ],
          "name": "stdout"
        },
        {
          "output_type": "execute_result",
          "data": {
            "text/plain": [
              "<weakproxy at 0x7f3debd2c650 to Device at 0x7f3dedb5b490>"
            ]
          },
          "metadata": {
            "tags": []
          },
          "execution_count": 15
        }
      ]
    },
    {
      "cell_type": "code",
      "metadata": {
        "colab": {
          "base_uri": "https://localhost:8080/"
        },
        "id": "s48GSNgMD3Hg",
        "outputId": "8a80f815-c003-4bf7-abd3-1cb60ae4ba4f"
      },
      "source": [
        "from __future__ import division\n",
        "from numba import cuda\n",
        "import numpy as np\n",
        "import math\n",
        "\n",
        "@cuda.jit\n",
        "def cos_sim(u,v,uv,u_norm,v_norm):\n",
        "  x = cuda.grid(1)\n",
        "  if x > u.size:\n",
        "    return\n",
        "  u_norm[x] += u[x]*u[x]\n",
        "  v_norm[x] += v[x]*v[x]\n",
        "  uv[x] += u[x]*v[x]\n",
        "\n",
        "N = 10000000\n",
        "u,v = np.random.rand(N).astype(np.float32),np.random.rand(N).astype(np.float32)\n",
        "du, dv = cuda.to_device(u),cuda.to_device(v)\n",
        "duv,du_norm,dv_norm = cuda.device_array(N),cuda.device_array(N),cuda.device_array(N)\n",
        "threadsperblock = 1000\n",
        "blockspergrid = math.ceil(u.shape[0]/threadsperblock)\n",
        "\n",
        "cos_sim[blockspergrid, threadsperblock](du, dv, duv, du_norm, dv_norm)\n",
        "uv = duv.copy_to_host()\n",
        "u_norm = du_norm.copy_to_host()\n",
        "v_norm = dv_norm.copy_to_host()\n",
        "similarity = np.sum(uv)/np.sqrt(np.sum(u_norm))/np.sqrt(np.sum(v_norm))\n",
        "print('similarity of u and v is', similarity)"
      ],
      "execution_count": 20,
      "outputs": [
        {
          "output_type": "stream",
          "text": [
            "similarity of u and v is 0.7500517491664885\n"
          ],
          "name": "stdout"
        }
      ]
    },
    {
      "cell_type": "code",
      "metadata": {
        "id": "56pxj3k9aHhV"
      },
      "source": [
        "!pip install pyopencl"
      ],
      "execution_count": null,
      "outputs": []
    },
    {
      "cell_type": "code",
      "metadata": {
        "colab": {
          "base_uri": "https://localhost:8080/"
        },
        "id": "SlywOQgSYHpl",
        "outputId": "20e43bba-a7f9-4fa5-835d-67b8503c2696"
      },
      "source": [
        "# Use OpenCL To Add Two Random Arrays (This Way Hides Details)\n",
        "from scipy import spatial\n",
        "import pyopencl as cl  # Import the OpenCL GPU computing API\n",
        "import pyopencl.array as pycl_array  # Import PyOpenCL Array \n",
        "#(a Numpy array plus an OpenCL buffer object)\n",
        "\n",
        "import numpy as np  # Import Numpy number tools\n",
        "\n",
        "np.set_printoptions(suppress=True)\n",
        "context = cl.create_some_context()  # Initialize the Context\n",
        "queue = cl.CommandQueue(context)  # Instantiate a Queue\n",
        "\n",
        "### Create two random pyopencl arrays\n",
        "N = 10000000\n",
        "u = pycl_array.to_device(queue, np.random.rand(N).astype(np.float32))\n",
        "v = pycl_array.to_device(queue, np.random.rand(N).astype(np.float32))  \n",
        "\n",
        "### Create an empty pyopencl destination array\n",
        "uv, u_norm, v_norm = pycl_array.empty_like(u), pycl_array.empty_like(u), pycl_array.empty_like(u)    \n",
        "\n",
        "program = cl.Program(context, \"\"\"\n",
        "__kernel void sum(__global const float *u, __global const float *v, __global float *uv, __global float *u_norm, __global float *v_norm)\n",
        "{\n",
        "  int i = get_global_id(0);\n",
        "  uv[i] = u[i] * v[i];\n",
        "  u_norm[i] = u[i] * u[i];\n",
        "  v_norm[i] = v[i] * v[i];\n",
        "}\"\"\").build()  # Create the OpenCL program\n",
        "\n",
        "### Enqueue the program for execution and store the result in c\n",
        "program.sum(queue, u.shape, None, u.data, v.data, uv.data, u_norm.data, v_norm.data)  \n",
        "similarity = np.sum(uv.get())/np.sqrt(float(np.sum(u_norm.get())))/np.sqrt(float(np.sum(v_norm.get())))\n",
        "print('similarity of u and v is', similarity)"
      ],
      "execution_count": 25,
      "outputs": [
        {
          "output_type": "stream",
          "text": [
            "similarity of u and v is 0.7499180906446112\n"
          ],
          "name": "stdout"
        }
      ]
    }
  ]
}